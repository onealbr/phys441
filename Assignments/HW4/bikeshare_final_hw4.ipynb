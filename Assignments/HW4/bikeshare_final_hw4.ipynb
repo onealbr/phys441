{
 "cells": [
  {
   "cell_type": "markdown",
   "id": "victorian-latitude",
   "metadata": {},
   "source": [
    "# Bike Share System"
   ]
  },
  {
   "cell_type": "markdown",
   "source": [
    "## Modeling a Bike Share System\n",
    "\n",
    "Imagine a bike share system for students traveling between Olin College and Wellesley College, which are about three miles apart in eastern Massachusetts.\n",
    "\n",
    "Suppose the system contains 12 bikes and two bike racks, one at Olin and one at Wellesley, each with the capacity to hold 12 bikes.\n",
    "\n",
    "As students arrive, check out a bike, and ride to the other campus, the number of bikes in each location changes. In the simulation, we'll need to keep track of where the bikes are. To do that, we'll use a function called `State`, which is defined in the ModSim library."
   ],
   "metadata": {
    "collapsed": false
   },
   "id": "f49a908c5972cd0e"
  },
  {
   "cell_type": "markdown",
   "id": "imported-table",
   "metadata": {
    "tags": []
   },
   "source": [
    "*Modeling and Simulation in Python*\n",
    "\n",
    "Copyright 2021 Allen Downey\n",
    "\n",
    "License: [Creative Commons Attribution-NonCommercial-ShareAlike 4.0 International](https://creativecommons.org/licenses/by-nc-sa/4.0/)"
   ]
  },
  {
   "cell_type": "code",
   "execution_count": 3,
   "id": "electoral-turkey",
   "metadata": {
    "tags": [],
    "ExecuteTime": {
     "end_time": "2023-10-30T20:20:08.795671Z",
     "start_time": "2023-10-30T20:20:08.765480Z"
    }
   },
   "outputs": [],
   "source": [
    "# import functions from modsim\n",
    "from modsim import *"
   ]
  },
  {
   "cell_type": "code",
   "execution_count": 4,
   "id": "formal-context",
   "metadata": {
    "tags": [],
    "ExecuteTime": {
     "end_time": "2023-10-30T20:20:08.801833Z",
     "start_time": "2023-10-30T20:20:08.773435Z"
    }
   },
   "outputs": [],
   "source": [
    "def step(state, p1, p2):\n",
    "    \"\"\"Simulate one time step.\n",
    "    \n",
    "    state: bikeshare State object\n",
    "    p1: probability of an Olin->Wellesley ride\n",
    "    p2: probability of a Wellesley->Olin ride\n",
    "    \"\"\"\n",
    "    if flip(p1):\n",
    "        bike_to_wellesley(state)\n",
    "    \n",
    "    if flip(p2):\n",
    "        bike_to_olin(state)\n",
    "        \n",
    "def bike_to_olin(state):\n",
    "    \"\"\"Move one bike from Wellesley to Olin.\n",
    "    \n",
    "    state: bikeshare State object\n",
    "    \"\"\"\n",
    "    if state.wellesley == 0:\n",
    "        state.wellesley_empty += 1\n",
    "        return\n",
    "    state.wellesley -= 1\n",
    "    state.olin += 1\n",
    "    \n",
    "def bike_to_wellesley(state):\n",
    "    \"\"\"Move one bike from Olin to Wellesley.\n",
    "    \n",
    "    state: bikeshare State object\n",
    "    \"\"\"\n",
    "    \n",
    "    if state.olin == 0:\n",
    "        state.olin_empty += 1\n",
    "        return\n",
    "    state.olin -= 1\n",
    "    state.wellesley += 1"
   ]
  },
  {
   "cell_type": "code",
   "execution_count": 5,
   "id": "progressive-typing",
   "metadata": {
    "tags": [],
    "ExecuteTime": {
     "end_time": "2023-10-30T20:20:08.814416Z",
     "start_time": "2023-10-30T20:20:08.783723Z"
    }
   },
   "outputs": [],
   "source": [
    "def run_simulation(state, p1, p2, num_steps, do_plot=True):\n",
    "    \"\"\"Simulate the given number of time steps.\n",
    "    \n",
    "    state: State object\n",
    "    p1: probability of an Olin->Wellesley customer arrival\n",
    "    p2: probability of a Wellesley->Olin customer arrival\n",
    "    num_steps: number of time steps\n",
    "    \"\"\"\n",
    "    results_olin = TimeSeries()\n",
    "    results_olin[0] = state.olin\n",
    "    results_wellesley = TimeSeries()\n",
    "    results_wellesley[0] = state.wellesley\n",
    "    results_olin_unsatisfied = TimeSeries()\n",
    "    results_olin_unsatisfied[0] = state.olin_empty\n",
    "    results_wellesley_unsatisfied = TimeSeries()\n",
    "    results_wellesley_unsatisfied[0] = state.wellesley_empty\n",
    "    \n",
    "    for i in range(num_steps):\n",
    "        step(state, p1, p2)\n",
    "        results_olin[i+1] = state.olin\n",
    "        results_wellesley[i+1] = state.wellesley\n",
    "        results_olin_unsatisfied[i+1] = state.olin_empty\n",
    "        results_wellesley_unsatisfied[i+1] = state.wellesley_empty\n",
    "        \n",
    "    if (do_plot):\n",
    "        fig, ax = plt.subplots(1,2,figsize=(12,6))\n",
    "        ax[0].plot(results_olin, label='Olin')\n",
    "        ax[0].plot(results_wellesley, label='Wellesley')\n",
    "        ax[0].set_xlabel('Time step (min)')\n",
    "        ax[0].set_ylabel('Number of bikes')\n",
    "        ax[0].legend()\n",
    "        ax[1].plot(results_olin_unsatisfied, label='Olin')\n",
    "        ax[1].plot(results_wellesley_unsatisfied, label='Wellesley')\n",
    "        ax[1].set_xlabel('Time step (min)')\n",
    "        ax[1].set_ylabel('Number of unsatisfied customers')\n",
    "        ax[1].legend()\n",
    "        plt.show()\n",
    "    \n",
    "    return results_olin_unsatisfied[num_steps-1] + results_wellesley_unsatisfied[num_steps-1]"
   ]
  },
  {
   "cell_type": "code",
   "execution_count": 6,
   "outputs": [
    {
     "name": "stdout",
     "output_type": "stream",
     "text": [
      "0 12\n",
      "Average unsatisfied customers:  3.48\n",
      "1 11\n",
      "Average unsatisfied customers:  3.37\n",
      "2 10\n",
      "Average unsatisfied customers:  3.01\n",
      "3 9\n",
      "Average unsatisfied customers:  3.74\n",
      "4 8\n",
      "Average unsatisfied customers:  4.16\n",
      "5 7\n",
      "Average unsatisfied customers:  4.18\n",
      "6 6\n",
      "Average unsatisfied customers:  6.46\n",
      "7 5\n",
      "Average unsatisfied customers:  6.27\n",
      "8 4\n",
      "Average unsatisfied customers:  7.09\n",
      "9 3\n",
      "Average unsatisfied customers:  7.03\n",
      "10 2\n",
      "Average unsatisfied customers:  9.04\n",
      "11 1\n",
      "Average unsatisfied customers:  10.01\n",
      "12 0\n",
      "Average unsatisfied customers:  10.03\n"
     ]
    }
   ],
   "source": [
    "p_olin_to_wellesley = 0.3\n",
    "p_wellesley_to_olin = 0.2\n",
    "\n",
    "N_slots = 12\n",
    "\n",
    "nstart = []\n",
    "tu_avg = []\n",
    "\n",
    "num_sims = 100\n",
    "\n",
    "for N_start_olin in range(N_slots+1):\n",
    "    nstart.append(N_start_olin)\n",
    "    N_start_wellesley = N_slots - N_start_olin\n",
    "\n",
    "    print(N_start_olin, N_start_wellesley)\n",
    "\n",
    "    tu_sum = 0\n",
    "    \n",
    "    for j in range(num_sims):\n",
    "        bikeshare = State(olin=N_start_olin, wellesley=N_start_wellesley,\n",
    "                  olin_empty=0, wellesley_empty=0)\n",
    "        do_plot = False\n",
    "        total_unsatisfied = run_simulation(bikeshare, p_wellesley_to_olin, p_olin_to_wellesley, 100, do_plot)\n",
    "\n",
    "        #print(\"Total unsatisfied customers: \", j, total_unsatisfied)\n",
    "        tu_sum += total_unsatisfied\n",
    "    \n",
    "    print(\"Average unsatisfied customers: \", tu_sum/(1.0*num_sims))\n",
    "    tu_avg.append(tu_sum/(1.0*num_sims))\n",
    "    \n"
   ],
   "metadata": {
    "collapsed": false,
    "ExecuteTime": {
     "end_time": "2023-10-30T20:23:04.470195Z",
     "start_time": "2023-10-30T20:20:08.789513Z"
    }
   },
   "id": "760647dfb2ea5d9f"
  },
  {
   "cell_type": "code",
   "execution_count": 7,
   "outputs": [
    {
     "data": {
      "text/plain": "<matplotlib.legend.Legend at 0x1273394f0>"
     },
     "execution_count": 7,
     "metadata": {},
     "output_type": "execute_result"
    },
    {
     "data": {
      "text/plain": "<Figure size 600x600 with 1 Axes>",
      "image/png": "[encoded data removed]"
     },
     "metadata": {},
     "output_type": "display_data"
    }
   ],
   "source": [
    "tu_avg_error = 0.1*np.array(tu_avg)\n",
    "\n",
    "fig, ax = plt.subplots(1,1,figsize=(8,8))\n",
    "ax.errorbar(nstart, tu_avg, tu_avg_error, label='Average unsatisfied customers')\n",
    "ax.set_xlabel('Number of starting bikes at Olin')\n",
    "ax.set_ylabel('Average number of unsatisfied customers')\n",
    "ax.legend()"
   ],
   "metadata": {
    "collapsed": false,
    "ExecuteTime": {
     "end_time": "2023-10-30T20:23:04.680740Z",
     "start_time": "2023-10-30T20:23:04.470032Z"
    }
   },
   "id": "5cdc15f29e14c6d1"
  },
  {
   "cell_type": "markdown",
   "source": [],
   "metadata": {
    "collapsed": false
   },
   "id": "8618a00660b30f10"
  },
  {
   "cell_type": "code",
   "execution_count": 22,
   "outputs": [],
   "source": [
    "# Now lets try with 3 locations instead of 2\n",
    "\n",
    "def steps3(state, p1, p2, p3, p4, p5, p6):\n",
    "    \"\"\"Simulate one time step.\n",
    "    \n",
    "    state: bikeshare State object\n",
    "    p1: probability of an CNU->NSU ride\n",
    "    p2: probability of a NSU->CNU ride\n",
    "    p3: probability of a HU->CNU ride\n",
    "    p4: probability of a CNU->NSU customer arrival\n",
    "    p5: probability of a NSU->CNU customer arrival\n",
    "    p6: probability of a HU->CNU customer arrival\n",
    "    \"\"\"\n",
    "    if flip(p1):\n",
    "        cnu_to_nsu(state)\n",
    "        \n",
    "    if flip(p2):\n",
    "        nsu_to_cnu(state)\n",
    "        \n",
    "    if flip(p3):\n",
    "        hu_to_cnu(state)\n",
    "        \n",
    "    if flip(p4):\n",
    "        cnu_to_hu(state)\n",
    "        \n",
    "    if flip(p5):\n",
    "        nsu_to_hu(state)\n",
    "        \n",
    "    if flip(p6):\n",
    "        hu_to_nsu(state)\n",
    "        \n",
    "def cnu_to_nsu(state):\n",
    "    \"\"\"Move one bike from CNU to NSU.\n",
    "    \n",
    "    state: bikeshare State object\n",
    "    \"\"\"\n",
    "    if state.cnu == 0:\n",
    "        state.cnu_empty += 1\n",
    "        return\n",
    "    state.cnu -= 1\n",
    "    state.nsu += 1\n",
    "    \n",
    "def nsu_to_cnu(state):\n",
    "    \"\"\"Move one bike from NSU to CNU.\n",
    "    \n",
    "    state: bikeshare State object\n",
    "    \"\"\"\n",
    "    \n",
    "    if state.nsu == 0:\n",
    "        state.nsu_empty += 1\n",
    "        return\n",
    "    state.nsu -= 1\n",
    "    state.cnu += 1\n",
    "    \n",
    "def cnu_to_hu(state):\n",
    "    \"\"\"Move one bike from HU to CNU.\n",
    "    \n",
    "    state: bikeshare State object\n",
    "    \"\"\"\n",
    "    \n",
    "    if state.hu == 0:\n",
    "        state.hu_empty += 1\n",
    "        return\n",
    "    state.hu -= 1\n",
    "    state.cnu += 1\n",
    "    \n",
    "def hu_to_cnu(state):\n",
    "    \"\"\"Move one bike from CNU to HU.\n",
    "    \n",
    "    state: bikeshare State object\n",
    "    \"\"\"\n",
    "    \n",
    "    if state.cnu == 0:\n",
    "        state.cnu_empty += 1\n",
    "        return\n",
    "    state.cnu -= 1\n",
    "    state.hu += 1\n",
    "    \n",
    "def nsu_to_hu(state):\n",
    "    \"\"\"Move one bike from NSU to HU.\n",
    "    \n",
    "    state: bikeshare State object\n",
    "    \"\"\"\n",
    "    \n",
    "    if state.nsu == 0:\n",
    "        state.nsu_empty += 1\n",
    "        return\n",
    "    state.nsu -= 1\n",
    "    state.hu += 1\n",
    "    \n",
    "def hu_to_nsu(state):\n",
    "    \"\"\"Move one bike from HU to NSU.\n",
    "    \n",
    "    state: bikeshare State object\n",
    "    \"\"\"\n",
    "    \n",
    "    if state.hu == 0:\n",
    "        state.hu_empty += 1\n",
    "        return\n",
    "    state.hu -= 1\n",
    "    state.nsu += 1"
   ],
   "metadata": {
    "collapsed": false,
    "ExecuteTime": {
     "end_time": "2023-10-30T21:00:37.778844Z",
     "start_time": "2023-10-30T21:00:37.773149Z"
    }
   },
   "id": "be61102956657b71"
  },
  {
   "cell_type": "code",
   "execution_count": 27,
   "outputs": [],
   "source": [
    "def run_simulation3(state, p1, p2, p3, p4, p5, p6, num_steps, do_plot=True):\n",
    "    \"\"\"Simulate the given number of time steps.\n",
    "    \n",
    "    state: State object\n",
    "    p1: probability of an CNU->NSU customer arrival\n",
    "    p2: probability of a NSU->CNU customer arrival\n",
    "    p3: probability of a HU->CNU customer arrival\n",
    "    p4: probability of an CNU->NSU ride\n",
    "    p5: probability of a NSU->CNU ride\n",
    "    p6: probability of a HU->CNU ride\n",
    "    num_steps: number of time steps\n",
    "    \"\"\"\n",
    "    results_cnu = TimeSeries()\n",
    "    results_cnu[0] = state.cnu\n",
    "    results_nsu = TimeSeries()\n",
    "    results_nsu[0] = state.nsu\n",
    "    results_hu = TimeSeries()\n",
    "    results_hu[0] = state.hu\n",
    "    results_cnu_unsatisfied = TimeSeries()\n",
    "    results_cnu_unsatisfied[0] = state.cnu_empty\n",
    "    results_nsu_unsatisfied = TimeSeries()\n",
    "    results_nsu_unsatisfied[0] = state.nsu_empty\n",
    "    results_hu_unsatisfied = TimeSeries()\n",
    "    results_hu_unsatisfied[0] = state.hu_empty\n",
    "    \n",
    "    for i in range(num_steps):\n",
    "        steps3(state, p1, p2, p3, p4, p5, p6)\n",
    "        results_cnu[i+1] = state.cnu\n",
    "        results_nsu[i+1] = state.nsu\n",
    "        results_hu[i+1] = state.hu\n",
    "        results_cnu_unsatisfied[i+1] = state.cnu_empty\n",
    "        results_nsu_unsatisfied[i+1] = state.nsu_empty\n",
    "        results_hu_unsatisfied[i+1] = state.hu_empty\n",
    "        \n",
    "    if (do_plot):\n",
    "        fig, ax = plt.subplots(1,2,figsize=(12,6))\n",
    "        ax[0].plot(results_cnu, label='CNU')\n",
    "        ax[0].plot(results_nsu, label='NSU')\n",
    "        ax[0].plot(results_hu, label='HU')\n",
    "        ax[0].set_xlabel('Time step (min)')\n",
    "        ax[0].set_ylabel('Number of bikes')\n",
    "        ax[0].legend()\n",
    "        ax[1].plot(results_cnu_unsatisfied, label='CNU')\n",
    "        ax[1].plot(results_nsu_unsatisfied, label='NSU')\n",
    "        ax[1].plot(results_hu_unsatisfied, label='HU')\n",
    "        ax[1].set_xlabel('Time step (min)')\n",
    "        ax[1].set_ylabel('Number of unsatisfied customers')\n",
    "        ax[1].legend()\n",
    "        plt.show()\n",
    "    \n",
    "    return results_cnu_unsatisfied[num_steps-1] + results_nsu_unsatisfied[num_steps-1] + results_hu_unsatisfied[num_steps-1]"
   ],
   "metadata": {
    "collapsed": false,
    "ExecuteTime": {
     "end_time": "2023-10-30T21:03:24.978334Z",
     "start_time": "2023-10-30T21:03:24.969346Z"
    }
   },
   "id": "770d330ebf3e3c77"
  },
  {
   "cell_type": "code",
   "execution_count": 42,
   "outputs": [
    {
     "data": {
      "text/plain": "<Figure size 900x450 with 2 Axes>",
      "image/png": "[encoded data removed]"
     },
     "metadata": {},
     "output_type": "display_data"
    },
    {
     "name": "stdout",
     "output_type": "stream",
     "text": [
      "Total unsatisfied customers:  22\n"
     ]
    }
   ],
   "source": [
    "# single run for testing purposes\n",
    "p_cnu_to_nsu = 0.3\n",
    "p_nsu_to_cnu = 0.2\n",
    "p_cnu_to_hu = 0.4\n",
    "p_hu_to_cnu = 0.1\n",
    "p_nsu_to_hu = 0.35\n",
    "p_hu_to_nsu = 0.15\n",
    "\n",
    "N_slots = 100\n",
    "\n",
    "nstart = []\n",
    "tu_avg = []\n",
    "\n",
    "num_sims = 100\n",
    "N_start_cnu = 90\n",
    "N_start_nsu = 10\n",
    "N_start_hu = 0\n",
    "\n",
    "# run simulation for 180 time steps\n",
    "bikeshare = State(cnu=N_start_cnu, nsu=N_start_nsu, hu=N_start_hu,\n",
    "                  cnu_empty=0, nsu_empty=0, hu_empty=0)\n",
    "do_plot = True\n",
    "total_unsatisfied = run_simulation3(bikeshare, p_cnu_to_nsu, p_nsu_to_cnu, p_cnu_to_hu, p_hu_to_cnu, p_nsu_to_hu, p_hu_to_nsu, 180, do_plot)\n",
    "\n",
    "print(\"Total unsatisfied customers: \", total_unsatisfied)\n"
   ],
   "metadata": {
    "collapsed": false,
    "ExecuteTime": {
     "end_time": "2023-10-30T21:07:11.828297Z",
     "start_time": "2023-10-30T21:07:10.954455Z"
    }
   },
   "id": "4b51270338613638"
  },
  {
   "cell_type": "code",
   "execution_count": 114,
   "outputs": [
    {
     "name": "stdout",
     "output_type": "stream",
     "text": [
      "100 0 0\n",
      "Average unsatisfied customers:  26.1\n",
      "90 10 0\n",
      "Average unsatisfied customers:  13.1\n",
      "90 0 10\n",
      "Average unsatisfied customers:  18.8\n",
      "80 20 0\n",
      "Average unsatisfied customers:  4.2\n",
      "80 10 10\n",
      "Average unsatisfied customers:  12.5\n",
      "80 0 20\n",
      "Average unsatisfied customers:  26.8\n",
      "70 30 0\n",
      "Average unsatisfied customers:  9.1\n",
      "70 20 10\n",
      "Average unsatisfied customers:  14.8\n",
      "70 10 20\n",
      "Average unsatisfied customers:  18.9\n",
      "70 0 30\n",
      "Average unsatisfied customers:  37.8\n",
      "60 40 0\n",
      "Average unsatisfied customers:  9.7\n",
      "60 30 10\n",
      "Average unsatisfied customers:  17.7\n",
      "60 20 20\n",
      "Average unsatisfied customers:  21.2\n",
      "60 10 30\n",
      "Average unsatisfied customers:  27.2\n",
      "60 0 40\n",
      "Average unsatisfied customers:  46.3\n",
      "50 50 0\n",
      "Average unsatisfied customers:  23.6\n",
      "50 40 10\n",
      "Average unsatisfied customers:  27.1\n",
      "50 30 20\n",
      "Average unsatisfied customers:  32.6\n",
      "50 20 30\n",
      "Average unsatisfied customers:  38.3\n",
      "50 10 40\n",
      "Average unsatisfied customers:  47.4\n",
      "50 0 50\n",
      "Average unsatisfied customers:  65.6\n",
      "40 60 0\n",
      "Average unsatisfied customers:  28.7\n",
      "40 50 10\n",
      "Average unsatisfied customers:  38.0\n",
      "40 40 20\n",
      "Average unsatisfied customers:  36.9\n",
      "40 30 30\n",
      "Average unsatisfied customers:  43.9\n",
      "40 20 40\n",
      "Average unsatisfied customers:  57.8\n",
      "40 10 50\n",
      "Average unsatisfied customers:  68.5\n",
      "40 0 60\n",
      "Average unsatisfied customers:  78.5\n",
      "30 70 0\n",
      "Average unsatisfied customers:  38.4\n",
      "30 60 10\n",
      "Average unsatisfied customers:  47.6\n",
      "30 50 20\n",
      "Average unsatisfied customers:  45.2\n",
      "30 40 30\n",
      "Average unsatisfied customers:  46.7\n",
      "30 30 40\n",
      "Average unsatisfied customers:  53.6\n",
      "30 20 50\n",
      "Average unsatisfied customers:  62.8\n",
      "30 10 60\n",
      "Average unsatisfied customers:  85.3\n",
      "30 0 70\n",
      "Average unsatisfied customers:  88.0\n",
      "20 80 0\n",
      "Average unsatisfied customers:  51.7\n",
      "20 70 10\n",
      "Average unsatisfied customers:  54.5\n",
      "20 60 20\n",
      "Average unsatisfied customers:  55.0\n",
      "20 50 30\n",
      "Average unsatisfied customers:  53.3\n",
      "20 40 40\n",
      "Average unsatisfied customers:  67.6\n",
      "20 30 50\n",
      "Average unsatisfied customers:  77.2\n",
      "20 20 60\n",
      "Average unsatisfied customers:  92.3\n",
      "20 10 70\n",
      "Average unsatisfied customers:  89.0\n",
      "20 0 80\n",
      "Average unsatisfied customers:  112.7\n",
      "10 90 0\n",
      "Average unsatisfied customers:  64.3\n",
      "10 80 10\n",
      "Average unsatisfied customers:  60.4\n",
      "10 70 20\n",
      "Average unsatisfied customers:  61.5\n",
      "10 60 30\n",
      "Average unsatisfied customers:  61.5\n",
      "10 50 40\n",
      "Average unsatisfied customers:  65.6\n",
      "10 40 50\n",
      "Average unsatisfied customers:  81.6\n",
      "10 30 60\n",
      "Average unsatisfied customers:  86.3\n",
      "10 20 70\n",
      "Average unsatisfied customers:  97.2\n",
      "10 10 80\n",
      "Average unsatisfied customers:  116.1\n",
      "10 0 90\n",
      "Average unsatisfied customers:  133.7\n",
      "0 100 0\n",
      "Average unsatisfied customers:  74.2\n",
      "0 90 10\n",
      "Average unsatisfied customers:  79.0\n",
      "0 80 20\n",
      "Average unsatisfied customers:  65.8\n",
      "0 70 30\n",
      "Average unsatisfied customers:  76.7\n",
      "0 60 40\n",
      "Average unsatisfied customers:  74.8\n",
      "0 50 50\n",
      "Average unsatisfied customers:  73.9\n",
      "0 40 60\n",
      "Average unsatisfied customers:  90.9\n",
      "0 30 70\n",
      "Average unsatisfied customers:  93.8\n",
      "0 20 80\n",
      "Average unsatisfied customers:  122.2\n",
      "0 10 90\n",
      "Average unsatisfied customers:  121.5\n"
     ]
    }
   ],
   "source": [
    "p_cnu_to_nsu = 0.3\n",
    "p_nsu_to_cnu = 0.2\n",
    "p_cnu_to_hu = 0.4\n",
    "p_hu_to_cnu = 0.1\n",
    "p_nsu_to_hu = 0.35\n",
    "p_hu_to_nsu = 0.15\n",
    "\n",
    "N_slots = 100\n",
    "\n",
    "nstartcnu = []\n",
    "nstartnsu = []\n",
    "nstarthu = []\n",
    "\n",
    "tu_avg = []\n",
    "\n",
    "num_sims = 10\n",
    "\n",
    "# run simulation for 180 time steps and incrementing by 10 bikes but we must keep a total 100 bikes between the 3 locations\n",
    "for N_start_cnu in range(N_slots, -10, -10):\n",
    "    for N_start_nsu in range(N_slots, -10, -10):\n",
    "        for N_start_hu in range(N_slots):\n",
    "            if (N_start_cnu + N_start_nsu + N_start_hu == 100):\n",
    "                nstartcnu.append(N_start_cnu)\n",
    "                nstartnsu.append(N_start_nsu)\n",
    "                nstarthu.append(N_start_hu)\n",
    "\n",
    "                print(N_start_cnu, N_start_nsu, N_start_hu)\n",
    "\n",
    "                tu_sum = 0\n",
    "\n",
    "                for j in range(num_sims):\n",
    "                    bikeshare = State(cnu=N_start_cnu, nsu=N_start_nsu, hu=N_start_hu,\n",
    "                                      cnu_empty=0, nsu_empty=0, hu_empty=0)\n",
    "                    do_plot = False\n",
    "                    total_unsatisfied = run_simulation3(bikeshare, p_cnu_to_nsu, p_nsu_to_cnu, p_cnu_to_hu, p_hu_to_cnu, p_nsu_to_hu, p_hu_to_nsu, 180, do_plot)\n",
    "\n",
    "                    #print(\"Total unsatisfied customers: \", j, total_unsatisfied)\n",
    "                    tu_sum += total_unsatisfied\n",
    "                \n",
    "                tu_avg.append(tu_sum/(1.0*num_sims))\n",
    "\n",
    "                print(\"Average unsatisfied customers: \", tu_sum/(1.0*num_sims))"
   ],
   "metadata": {
    "collapsed": false,
    "ExecuteTime": {
     "end_time": "2023-10-30T23:02:43.549823Z",
     "start_time": "2023-10-30T22:58:42.816458Z"
    }
   },
   "id": "1a6fcd2fd7796d01"
  },
  {
   "cell_type": "code",
   "execution_count": 115,
   "outputs": [
    {
     "name": "stdout",
     "output_type": "stream",
     "text": [
      "Minimum average unsatisfied customers:  4.2\n",
      "Starting conditions:  80 20 0\n"
     ]
    }
   ],
   "source": [
    "# find minimum average unsatisfied customers and the corresponding starting conditions\n",
    "min_tu_avg = min(tu_avg)\n",
    "min_tu_avg_index = tu_avg.index(min_tu_avg)\n",
    "print(\"Minimum average unsatisfied customers: \", min_tu_avg)\n",
    "print(\"Starting conditions: \", nstartcnu[min_tu_avg_index], nstartnsu[min_tu_avg_index], nstarthu[min_tu_avg_index])"
   ],
   "metadata": {
    "collapsed": false,
    "ExecuteTime": {
     "end_time": "2023-10-30T23:02:48.147909Z",
     "start_time": "2023-10-30T23:02:48.133999Z"
    }
   },
   "id": "61de343edc918d31"
  },
  {
   "cell_type": "markdown",
   "source": [
    "Best Configuration is 80 bikes at CNU, 20 bikes at NSU, and 0 bikes at HU. This is probably related to the fact that bikes are more likely to end up at HU than the other two locations, so it is better to start with 0 bikes at HU."
   ],
   "metadata": {
    "collapsed": false
   },
   "id": "854b1f1f972286b8"
  },
  {
   "cell_type": "markdown",
   "id": "instructional-finnish",
   "metadata": {},
   "source": [
    "## Under the Hood\n",
    "\n",
    "This section contains additional information about the functions we've used and pointers to their documentation.\n",
    "\n",
    "You don't need to know anything in this section, so if you are already feeling overwhelmed, you might want to skip it.\n",
    "But if you are curious, read on."
   ]
  },
  {
   "cell_type": "markdown",
   "id": "quick-citizen",
   "metadata": {},
   "source": [
    "`State` and `TimeSeries` objects are based on the `Series` object defined by the Pandas library.\n",
    "The documentation is at <https://pandas.pydata.org/pandas-docs/stable/reference/api/pandas.Series.html>.\n",
    "\n",
    "`Series` objects provide their own `plot` function, which is why we call it like this:\n",
    "\n",
    "```\n",
    "results.plot()\n",
    "```\n",
    "\n",
    "Instead of like this:\n",
    "\n",
    "```\n",
    "plot(results)\n",
    "```\n",
    "\n",
    "You can read the documentation of `Series.plot` at <https://pandas.pydata.org/pandas-docs/stable/reference/api/pandas.Series.plot.html>."
   ]
  },
  {
   "cell_type": "markdown",
   "id": "digital-stretch",
   "metadata": {},
   "source": [
    "`decorate` is based on Matplotlib, which is a widely used plotting library for Python.  Matplotlib provides separate functions for `title`, `xlabel`, and `ylabel`.\n",
    "`decorate` makes them a little easier to use.\n",
    "For the list of keyword arguments you can pass to `decorate`, see <https://matplotlib.org/3.2.2/api/axes_api.html?highlight=axes#module-matplotlib.axes>.\n",
    "\n",
    "The `flip` function uses NumPy's `random` function to generate a random number between 0 and 1, then returns `True` or `False` with the given probability.\n",
    "\n",
    "You can get the source code for `flip` (or any other function) by running the following cell."
   ]
  },
  {
   "cell_type": "code",
   "execution_count": 113,
   "id": "agricultural-midwest",
   "metadata": {
    "ExecuteTime": {
     "end_time": "2023-10-30T22:57:07.495601Z",
     "start_time": "2023-10-30T22:57:07.487516Z"
    }
   },
   "outputs": [
    {
     "name": "stdout",
     "output_type": "stream",
     "text": [
      "def flip(p=0.5):\n",
      "    \"\"\"Flips a coin with the given probability.\n",
      "\n",
      "    p: float 0-1\n",
      "\n",
      "    returns: boolean (True or False)\n",
      "    \"\"\"\n",
      "    return np.random.random() < p\n"
     ]
    }
   ],
   "source": [
    "source_code(flip)"
   ]
  },
  {
   "cell_type": "code",
   "execution_count": 8,
   "id": "junior-lindsay",
   "metadata": {
    "ExecuteTime": {
     "end_time": "2023-10-30T20:23:04.693492Z",
     "start_time": "2023-10-30T20:23:04.688803Z"
    }
   },
   "outputs": [],
   "source": []
  },
  {
   "cell_type": "code",
   "execution_count": 8,
   "outputs": [],
   "source": [],
   "metadata": {
    "collapsed": false,
    "ExecuteTime": {
     "end_time": "2023-10-30T20:23:04.694492Z",
     "start_time": "2023-10-30T20:23:04.691680Z"
    }
   },
   "id": "9c2ef8f0c1c32f7"
  }
 ],
 "metadata": {
  "celltoolbar": "Tags",
  "kernelspec": {
   "display_name": "Python 3 (ipykernel)",
   "language": "python",
   "name": "python3"
  },
  "language_info": {
   "codemirror_mode": {
    "name": "ipython",
    "version": 3
   },
   "file_extension": ".py",
   "mimetype": "text/x-python",
   "name": "python",
   "nbconvert_exporter": "python",
   "pygments_lexer": "ipython3",
   "version": "3.10.6"
  }
 },
 "nbformat": 4,
 "nbformat_minor": 5
}
