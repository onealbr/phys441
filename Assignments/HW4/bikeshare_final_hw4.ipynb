{
 "cells": [
  {
   "cell_type": "markdown",
   "id": "victorian-latitude",
   "metadata": {},
   "source": [
    "# Bike Share System"
   ]
  },
  {
   "cell_type": "markdown",
   "source": [
    "## Modeling a Bike Share System\n",
    "\n",
    "Imagine a bike share system for students traveling between Olin College and Wellesley College, which are about three miles apart in eastern Massachusetts.\n",
    "\n",
    "Suppose the system contains 12 bikes and two bike racks, one at Olin and one at Wellesley, each with the capacity to hold 12 bikes.\n",
    "\n",
    "As students arrive, check out a bike, and ride to the other campus, the number of bikes in each location changes. In the simulation, we'll need to keep track of where the bikes are. To do that, we'll use a function called `State`, which is defined in the ModSim library."
   ],
   "metadata": {
    "collapsed": false
   },
   "id": "f49a908c5972cd0e"
  },
  {
   "cell_type": "markdown",
   "id": "imported-table",
   "metadata": {
    "tags": []
   },
   "source": [
    "*Modeling and Simulation in Python*\n",
    "\n",
    "Copyright 2021 Allen Downey\n",
    "\n",
    "License: [Creative Commons Attribution-NonCommercial-ShareAlike 4.0 International](https://creativecommons.org/licenses/by-nc-sa/4.0/)"
   ]
  },
  {
   "cell_type": "code",
   "execution_count": 2,
   "id": "electoral-turkey",
   "metadata": {
    "tags": [],
    "ExecuteTime": {
     "end_time": "2023-11-01T13:57:21.358492Z",
     "start_time": "2023-11-01T13:57:19.739239Z"
    }
   },
   "outputs": [],
   "source": [
    "# import functions from modsim\n",
    "from modsim import *"
   ]
  },
  {
   "cell_type": "code",
   "execution_count": 3,
   "id": "formal-context",
   "metadata": {
    "tags": [],
    "ExecuteTime": {
     "end_time": "2023-11-01T13:57:21.367688Z",
     "start_time": "2023-11-01T13:57:21.365177Z"
    }
   },
   "outputs": [],
   "source": [
    "def step(state, p1, p2):\n",
    "    \"\"\"Simulate one time step.\n",
    "    \n",
    "    state: bikeshare State object\n",
    "    p1: probability of an Olin->Wellesley ride\n",
    "    p2: probability of a Wellesley->Olin ride\n",
    "    \"\"\"\n",
    "    if flip(p1):\n",
    "        bike_to_wellesley(state)\n",
    "    \n",
    "    if flip(p2):\n",
    "        bike_to_olin(state)\n",
    "        \n",
    "def bike_to_olin(state):\n",
    "    \"\"\"Move one bike from Wellesley to Olin.\n",
    "    \n",
    "    state: bikeshare State object\n",
    "    \"\"\"\n",
    "    if state.wellesley == 0:\n",
    "        state.wellesley_empty += 1\n",
    "        return\n",
    "    state.wellesley -= 1\n",
    "    state.olin += 1\n",
    "    \n",
    "def bike_to_wellesley(state):\n",
    "    \"\"\"Move one bike from Olin to Wellesley.\n",
    "    \n",
    "    state: bikeshare State object\n",
    "    \"\"\"\n",
    "    \n",
    "    if state.olin == 0:\n",
    "        state.olin_empty += 1\n",
    "        return\n",
    "    state.olin -= 1\n",
    "    state.wellesley += 1"
   ]
  },
  {
   "cell_type": "code",
   "execution_count": 4,
   "id": "progressive-typing",
   "metadata": {
    "tags": [],
    "ExecuteTime": {
     "end_time": "2023-11-01T13:57:21.376871Z",
     "start_time": "2023-11-01T13:57:21.374492Z"
    }
   },
   "outputs": [],
   "source": [
    "def run_simulation(state, p1, p2, num_steps, do_plot=True):\n",
    "    \"\"\"Simulate the given number of time steps.\n",
    "    \n",
    "    state: State object\n",
    "    p1: probability of an Olin->Wellesley customer arrival\n",
    "    p2: probability of a Wellesley->Olin customer arrival\n",
    "    num_steps: number of time steps\n",
    "    \"\"\"\n",
    "    results_olin = TimeSeries()\n",
    "    results_olin[0] = state.olin\n",
    "    results_wellesley = TimeSeries()\n",
    "    results_wellesley[0] = state.wellesley\n",
    "    results_olin_unsatisfied = TimeSeries()\n",
    "    results_olin_unsatisfied[0] = state.olin_empty\n",
    "    results_wellesley_unsatisfied = TimeSeries()\n",
    "    results_wellesley_unsatisfied[0] = state.wellesley_empty\n",
    "    \n",
    "    for i in range(num_steps):\n",
    "        step(state, p1, p2)\n",
    "        results_olin[i+1] = state.olin\n",
    "        results_wellesley[i+1] = state.wellesley\n",
    "        results_olin_unsatisfied[i+1] = state.olin_empty\n",
    "        results_wellesley_unsatisfied[i+1] = state.wellesley_empty\n",
    "        \n",
    "    if (do_plot):\n",
    "        fig, ax = plt.subplots(1,2,figsize=(12,6))\n",
    "        ax[0].plot(results_olin, label='Olin')\n",
    "        ax[0].plot(results_wellesley, label='Wellesley')\n",
    "        ax[0].set_xlabel('Time step (min)')\n",
    "        ax[0].set_ylabel('Number of bikes')\n",
    "        ax[0].legend()\n",
    "        ax[1].plot(results_olin_unsatisfied, label='Olin')\n",
    "        ax[1].plot(results_wellesley_unsatisfied, label='Wellesley')\n",
    "        ax[1].set_xlabel('Time step (min)')\n",
    "        ax[1].set_ylabel('Number of unsatisfied customers')\n",
    "        ax[1].legend()\n",
    "        plt.show()\n",
    "    \n",
    "    return results_olin_unsatisfied[num_steps-1] + results_wellesley_unsatisfied[num_steps-1]"
   ]
  },
  {
   "cell_type": "code",
   "execution_count": 5,
   "outputs": [
    {
     "name": "stdout",
     "output_type": "stream",
     "text": [
      "0 12\n",
      "Average unsatisfied customers:  3.72\n",
      "1 11\n",
      "Average unsatisfied customers:  3.26\n",
      "2 10\n"
     ]
    },
    {
     "ename": "KeyboardInterrupt",
     "evalue": "",
     "output_type": "error",
     "traceback": [
      "\u001B[0;31m---------------------------------------------------------------------------\u001B[0m",
      "\u001B[0;31mKeyError\u001B[0m                                  Traceback (most recent call last)",
      "File \u001B[0;32m/usr/local/lib/python3.9/site-packages/pandas/core/indexes/base.py:3652\u001B[0m, in \u001B[0;36mIndex.get_loc\u001B[0;34m(self, key)\u001B[0m\n\u001B[1;32m   3651\u001B[0m \u001B[38;5;28;01mtry\u001B[39;00m:\n\u001B[0;32m-> 3652\u001B[0m     \u001B[38;5;28;01mreturn\u001B[39;00m \u001B[38;5;28;43mself\u001B[39;49m\u001B[38;5;241;43m.\u001B[39;49m\u001B[43m_engine\u001B[49m\u001B[38;5;241;43m.\u001B[39;49m\u001B[43mget_loc\u001B[49m\u001B[43m(\u001B[49m\u001B[43mcasted_key\u001B[49m\u001B[43m)\u001B[49m\n\u001B[1;32m   3653\u001B[0m \u001B[38;5;28;01mexcept\u001B[39;00m \u001B[38;5;167;01mKeyError\u001B[39;00m \u001B[38;5;28;01mas\u001B[39;00m err:\n",
      "File \u001B[0;32m/usr/local/lib/python3.9/site-packages/pandas/_libs/index.pyx:147\u001B[0m, in \u001B[0;36mpandas._libs.index.IndexEngine.get_loc\u001B[0;34m()\u001B[0m\n",
      "File \u001B[0;32m/usr/local/lib/python3.9/site-packages/pandas/_libs/index.pyx:176\u001B[0m, in \u001B[0;36mpandas._libs.index.IndexEngine.get_loc\u001B[0;34m()\u001B[0m\n",
      "File \u001B[0;32mpandas/_libs/hashtable_class_helper.pxi:2606\u001B[0m, in \u001B[0;36mpandas._libs.hashtable.Int64HashTable.get_item\u001B[0;34m()\u001B[0m\n",
      "File \u001B[0;32mpandas/_libs/hashtable_class_helper.pxi:2630\u001B[0m, in \u001B[0;36mpandas._libs.hashtable.Int64HashTable.get_item\u001B[0;34m()\u001B[0m\n",
      "\u001B[0;31mKeyError\u001B[0m: 86",
      "\nThe above exception was the direct cause of the following exception:\n",
      "\u001B[0;31mKeyError\u001B[0m                                  Traceback (most recent call last)",
      "File \u001B[0;32m/usr/local/lib/python3.9/site-packages/pandas/core/series.py:1159\u001B[0m, in \u001B[0;36mSeries.__setitem__\u001B[0;34m(self, key, value)\u001B[0m\n\u001B[1;32m   1158\u001B[0m \u001B[38;5;28;01mtry\u001B[39;00m:\n\u001B[0;32m-> 1159\u001B[0m     \u001B[38;5;28;43mself\u001B[39;49m\u001B[38;5;241;43m.\u001B[39;49m\u001B[43m_set_with_engine\u001B[49m\u001B[43m(\u001B[49m\u001B[43mkey\u001B[49m\u001B[43m,\u001B[49m\u001B[43m \u001B[49m\u001B[43mvalue\u001B[49m\u001B[43m)\u001B[49m\n\u001B[1;32m   1160\u001B[0m \u001B[38;5;28;01mexcept\u001B[39;00m \u001B[38;5;167;01mKeyError\u001B[39;00m:\n\u001B[1;32m   1161\u001B[0m     \u001B[38;5;66;03m# We have a scalar (or for MultiIndex or object-dtype, scalar-like)\u001B[39;00m\n\u001B[1;32m   1162\u001B[0m     \u001B[38;5;66;03m#  key that is not present in self.index.\u001B[39;00m\n",
      "File \u001B[0;32m/usr/local/lib/python3.9/site-packages/pandas/core/series.py:1222\u001B[0m, in \u001B[0;36mSeries._set_with_engine\u001B[0;34m(self, key, value)\u001B[0m\n\u001B[1;32m   1221\u001B[0m \u001B[38;5;28;01mdef\u001B[39;00m \u001B[38;5;21m_set_with_engine\u001B[39m(\u001B[38;5;28mself\u001B[39m, key, value) \u001B[38;5;241m-\u001B[39m\u001B[38;5;241m>\u001B[39m \u001B[38;5;28;01mNone\u001B[39;00m:\n\u001B[0;32m-> 1222\u001B[0m     loc \u001B[38;5;241m=\u001B[39m \u001B[38;5;28;43mself\u001B[39;49m\u001B[38;5;241;43m.\u001B[39;49m\u001B[43mindex\u001B[49m\u001B[38;5;241;43m.\u001B[39;49m\u001B[43mget_loc\u001B[49m\u001B[43m(\u001B[49m\u001B[43mkey\u001B[49m\u001B[43m)\u001B[49m\n\u001B[1;32m   1224\u001B[0m     \u001B[38;5;66;03m# this is equivalent to self._values[key] = value\u001B[39;00m\n",
      "File \u001B[0;32m/usr/local/lib/python3.9/site-packages/pandas/core/indexes/base.py:3654\u001B[0m, in \u001B[0;36mIndex.get_loc\u001B[0;34m(self, key)\u001B[0m\n\u001B[1;32m   3653\u001B[0m \u001B[38;5;28;01mexcept\u001B[39;00m \u001B[38;5;167;01mKeyError\u001B[39;00m \u001B[38;5;28;01mas\u001B[39;00m err:\n\u001B[0;32m-> 3654\u001B[0m     \u001B[38;5;28;01mraise\u001B[39;00m \u001B[38;5;167;01mKeyError\u001B[39;00m(key) \u001B[38;5;28;01mfrom\u001B[39;00m \u001B[38;5;21;01merr\u001B[39;00m\n\u001B[1;32m   3655\u001B[0m \u001B[38;5;28;01mexcept\u001B[39;00m \u001B[38;5;167;01mTypeError\u001B[39;00m:\n\u001B[1;32m   3656\u001B[0m     \u001B[38;5;66;03m# If we have a listlike key, _check_indexing_error will raise\u001B[39;00m\n\u001B[1;32m   3657\u001B[0m     \u001B[38;5;66;03m#  InvalidIndexError. Otherwise we fall through and re-raise\u001B[39;00m\n\u001B[1;32m   3658\u001B[0m     \u001B[38;5;66;03m#  the TypeError.\u001B[39;00m\n",
      "\u001B[0;31mKeyError\u001B[0m: 86",
      "\nDuring handling of the above exception, another exception occurred:\n",
      "\u001B[0;31mKeyboardInterrupt\u001B[0m                         Traceback (most recent call last)",
      "Cell \u001B[0;32mIn[5], line 23\u001B[0m\n\u001B[1;32m     20\u001B[0m bikeshare \u001B[38;5;241m=\u001B[39m State(olin\u001B[38;5;241m=\u001B[39mN_start_olin, wellesley\u001B[38;5;241m=\u001B[39mN_start_wellesley,\n\u001B[1;32m     21\u001B[0m           olin_empty\u001B[38;5;241m=\u001B[39m\u001B[38;5;241m0\u001B[39m, wellesley_empty\u001B[38;5;241m=\u001B[39m\u001B[38;5;241m0\u001B[39m)\n\u001B[1;32m     22\u001B[0m do_plot \u001B[38;5;241m=\u001B[39m \u001B[38;5;28;01mFalse\u001B[39;00m\n\u001B[0;32m---> 23\u001B[0m total_unsatisfied \u001B[38;5;241m=\u001B[39m \u001B[43mrun_simulation\u001B[49m\u001B[43m(\u001B[49m\u001B[43mbikeshare\u001B[49m\u001B[43m,\u001B[49m\u001B[43m \u001B[49m\u001B[43mp_wellesley_to_olin\u001B[49m\u001B[43m,\u001B[49m\u001B[43m \u001B[49m\u001B[43mp_olin_to_wellesley\u001B[49m\u001B[43m,\u001B[49m\u001B[43m \u001B[49m\u001B[38;5;241;43m100\u001B[39;49m\u001B[43m,\u001B[49m\u001B[43m \u001B[49m\u001B[43mdo_plot\u001B[49m\u001B[43m)\u001B[49m\n\u001B[1;32m     25\u001B[0m \u001B[38;5;66;03m#print(\"Total unsatisfied customers: \", j, total_unsatisfied)\u001B[39;00m\n\u001B[1;32m     26\u001B[0m tu_sum \u001B[38;5;241m+\u001B[39m\u001B[38;5;241m=\u001B[39m total_unsatisfied\n",
      "Cell \u001B[0;32mIn[4], line 23\u001B[0m, in \u001B[0;36mrun_simulation\u001B[0;34m(state, p1, p2, num_steps, do_plot)\u001B[0m\n\u001B[1;32m     21\u001B[0m     results_wellesley[i\u001B[38;5;241m+\u001B[39m\u001B[38;5;241m1\u001B[39m] \u001B[38;5;241m=\u001B[39m state\u001B[38;5;241m.\u001B[39mwellesley\n\u001B[1;32m     22\u001B[0m     results_olin_unsatisfied[i\u001B[38;5;241m+\u001B[39m\u001B[38;5;241m1\u001B[39m] \u001B[38;5;241m=\u001B[39m state\u001B[38;5;241m.\u001B[39molin_empty\n\u001B[0;32m---> 23\u001B[0m     \u001B[43mresults_wellesley_unsatisfied\u001B[49m\u001B[43m[\u001B[49m\u001B[43mi\u001B[49m\u001B[38;5;241;43m+\u001B[39;49m\u001B[38;5;241;43m1\u001B[39;49m\u001B[43m]\u001B[49m \u001B[38;5;241m=\u001B[39m state\u001B[38;5;241m.\u001B[39mwellesley_empty\n\u001B[1;32m     25\u001B[0m \u001B[38;5;28;01mif\u001B[39;00m (do_plot):\n\u001B[1;32m     26\u001B[0m     fig, ax \u001B[38;5;241m=\u001B[39m plt\u001B[38;5;241m.\u001B[39msubplots(\u001B[38;5;241m1\u001B[39m,\u001B[38;5;241m2\u001B[39m,figsize\u001B[38;5;241m=\u001B[39m(\u001B[38;5;241m12\u001B[39m,\u001B[38;5;241m6\u001B[39m))\n",
      "File \u001B[0;32m/usr/local/lib/python3.9/site-packages/pandas/core/series.py:1166\u001B[0m, in \u001B[0;36mSeries.__setitem__\u001B[0;34m(self, key, value)\u001B[0m\n\u001B[1;32m   1163\u001B[0m \u001B[38;5;28;01mif\u001B[39;00m is_integer(key):\n\u001B[1;32m   1164\u001B[0m     \u001B[38;5;28;01mif\u001B[39;00m \u001B[38;5;129;01mnot\u001B[39;00m \u001B[38;5;28mself\u001B[39m\u001B[38;5;241m.\u001B[39mindex\u001B[38;5;241m.\u001B[39m_should_fallback_to_positional:\n\u001B[1;32m   1165\u001B[0m         \u001B[38;5;66;03m# GH#33469\u001B[39;00m\n\u001B[0;32m-> 1166\u001B[0m         \u001B[38;5;28;43mself\u001B[39;49m\u001B[38;5;241;43m.\u001B[39;49m\u001B[43mloc\u001B[49m\u001B[43m[\u001B[49m\u001B[43mkey\u001B[49m\u001B[43m]\u001B[49m \u001B[38;5;241m=\u001B[39m value\n\u001B[1;32m   1167\u001B[0m     \u001B[38;5;28;01melse\u001B[39;00m:\n\u001B[1;32m   1168\u001B[0m         \u001B[38;5;66;03m# positional setter\u001B[39;00m\n\u001B[1;32m   1169\u001B[0m         \u001B[38;5;66;03m# can't use _mgr.setitem_inplace yet bc could have *both*\u001B[39;00m\n\u001B[1;32m   1170\u001B[0m         \u001B[38;5;66;03m#  KeyError and then ValueError, xref GH#45070\u001B[39;00m\n\u001B[1;32m   1171\u001B[0m         \u001B[38;5;28mself\u001B[39m\u001B[38;5;241m.\u001B[39m_set_values(key, value)\n",
      "File \u001B[0;32m/usr/local/lib/python3.9/site-packages/pandas/core/indexing.py:849\u001B[0m, in \u001B[0;36m_LocationIndexer.__setitem__\u001B[0;34m(self, key, value)\u001B[0m\n\u001B[1;32m    846\u001B[0m \u001B[38;5;28mself\u001B[39m\u001B[38;5;241m.\u001B[39m_has_valid_setitem_indexer(key)\n\u001B[1;32m    848\u001B[0m iloc \u001B[38;5;241m=\u001B[39m \u001B[38;5;28mself\u001B[39m \u001B[38;5;28;01mif\u001B[39;00m \u001B[38;5;28mself\u001B[39m\u001B[38;5;241m.\u001B[39mname \u001B[38;5;241m==\u001B[39m \u001B[38;5;124m\"\u001B[39m\u001B[38;5;124miloc\u001B[39m\u001B[38;5;124m\"\u001B[39m \u001B[38;5;28;01melse\u001B[39;00m \u001B[38;5;28mself\u001B[39m\u001B[38;5;241m.\u001B[39mobj\u001B[38;5;241m.\u001B[39miloc\n\u001B[0;32m--> 849\u001B[0m \u001B[43miloc\u001B[49m\u001B[38;5;241;43m.\u001B[39;49m\u001B[43m_setitem_with_indexer\u001B[49m\u001B[43m(\u001B[49m\u001B[43mindexer\u001B[49m\u001B[43m,\u001B[49m\u001B[43m \u001B[49m\u001B[43mvalue\u001B[49m\u001B[43m,\u001B[49m\u001B[43m \u001B[49m\u001B[38;5;28;43mself\u001B[39;49m\u001B[38;5;241;43m.\u001B[39;49m\u001B[43mname\u001B[49m\u001B[43m)\u001B[49m\n",
      "File \u001B[0;32m/usr/local/lib/python3.9/site-packages/pandas/core/indexing.py:1825\u001B[0m, in \u001B[0;36m_iLocIndexer._setitem_with_indexer\u001B[0;34m(self, indexer, value, name)\u001B[0m\n\u001B[1;32m   1822\u001B[0m     indexer, missing \u001B[38;5;241m=\u001B[39m convert_missing_indexer(indexer)\n\u001B[1;32m   1824\u001B[0m     \u001B[38;5;28;01mif\u001B[39;00m missing:\n\u001B[0;32m-> 1825\u001B[0m         \u001B[38;5;28;43mself\u001B[39;49m\u001B[38;5;241;43m.\u001B[39;49m\u001B[43m_setitem_with_indexer_missing\u001B[49m\u001B[43m(\u001B[49m\u001B[43mindexer\u001B[49m\u001B[43m,\u001B[49m\u001B[43m \u001B[49m\u001B[43mvalue\u001B[49m\u001B[43m)\u001B[49m\n\u001B[1;32m   1826\u001B[0m         \u001B[38;5;28;01mreturn\u001B[39;00m\n\u001B[1;32m   1828\u001B[0m \u001B[38;5;28;01mif\u001B[39;00m name \u001B[38;5;241m==\u001B[39m \u001B[38;5;124m\"\u001B[39m\u001B[38;5;124mloc\u001B[39m\u001B[38;5;124m\"\u001B[39m:\n\u001B[1;32m   1829\u001B[0m     \u001B[38;5;66;03m# must come after setting of missing\u001B[39;00m\n",
      "File \u001B[0;32m/usr/local/lib/python3.9/site-packages/pandas/core/indexing.py:2102\u001B[0m, in \u001B[0;36m_iLocIndexer._setitem_with_indexer_missing\u001B[0;34m(self, indexer, value)\u001B[0m\n\u001B[1;32m   2098\u001B[0m \u001B[38;5;28;01mif\u001B[39;00m index\u001B[38;5;241m.\u001B[39mis_unique:\n\u001B[1;32m   2099\u001B[0m     \u001B[38;5;66;03m# pass new_index[-1:] instead if [new_index[-1]]\u001B[39;00m\n\u001B[1;32m   2100\u001B[0m     \u001B[38;5;66;03m#  so that we retain dtype\u001B[39;00m\n\u001B[1;32m   2101\u001B[0m     new_indexer \u001B[38;5;241m=\u001B[39m index\u001B[38;5;241m.\u001B[39mget_indexer(new_index[\u001B[38;5;241m-\u001B[39m\u001B[38;5;241m1\u001B[39m:])\n\u001B[0;32m-> 2102\u001B[0m     \u001B[38;5;28;01mif\u001B[39;00m (\u001B[43mnew_indexer\u001B[49m\u001B[43m \u001B[49m\u001B[38;5;241;43m!=\u001B[39;49m\u001B[43m \u001B[49m\u001B[38;5;241;43m-\u001B[39;49m\u001B[38;5;241;43m1\u001B[39;49m)\u001B[38;5;241m.\u001B[39many():\n\u001B[1;32m   2103\u001B[0m         \u001B[38;5;66;03m# We get only here with loc, so can hard code\u001B[39;00m\n\u001B[1;32m   2104\u001B[0m         \u001B[38;5;28;01mreturn\u001B[39;00m \u001B[38;5;28mself\u001B[39m\u001B[38;5;241m.\u001B[39m_setitem_with_indexer(new_indexer, value, \u001B[38;5;124m\"\u001B[39m\u001B[38;5;124mloc\u001B[39m\u001B[38;5;124m\"\u001B[39m)\n\u001B[1;32m   2106\u001B[0m \u001B[38;5;66;03m# this preserves dtype of the value and of the object\u001B[39;00m\n",
      "\u001B[0;31mKeyboardInterrupt\u001B[0m: "
     ]
    }
   ],
   "source": [
    "p_olin_to_wellesley = 0.3\n",
    "p_wellesley_to_olin = 0.2\n",
    "\n",
    "N_slots = 12\n",
    "\n",
    "nstart = []\n",
    "tu_avg = []\n",
    "\n",
    "num_sims = 100\n",
    "\n",
    "for N_start_olin in range(N_slots+1):\n",
    "    nstart.append(N_start_olin)\n",
    "    N_start_wellesley = N_slots - N_start_olin\n",
    "\n",
    "    print(N_start_olin, N_start_wellesley)\n",
    "\n",
    "    tu_sum = 0\n",
    "    \n",
    "    for j in range(num_sims):\n",
    "        bikeshare = State(olin=N_start_olin, wellesley=N_start_wellesley,\n",
    "                  olin_empty=0, wellesley_empty=0)\n",
    "        do_plot = False\n",
    "        total_unsatisfied = run_simulation(bikeshare, p_wellesley_to_olin, p_olin_to_wellesley, 100, do_plot)\n",
    "\n",
    "        #print(\"Total unsatisfied customers: \", j, total_unsatisfied)\n",
    "        tu_sum += total_unsatisfied\n",
    "    \n",
    "    print(\"Average unsatisfied customers: \", tu_sum/(1.0*num_sims))\n",
    "    tu_avg.append(tu_sum/(1.0*num_sims))\n",
    "    \n"
   ],
   "metadata": {
    "collapsed": false,
    "ExecuteTime": {
     "end_time": "2023-11-01T13:58:02.153579Z",
     "start_time": "2023-11-01T13:57:21.403425Z"
    }
   },
   "id": "760647dfb2ea5d9f"
  },
  {
   "cell_type": "code",
   "execution_count": null,
   "outputs": [],
   "source": [
    "tu_avg_error = 0.1*np.array(tu_avg)\n",
    "\n",
    "fig, ax = plt.subplots(1,1,figsize=(8,8))\n",
    "ax.errorbar(nstart, tu_avg, tu_avg_error, label='Average unsatisfied customers')\n",
    "ax.set_xlabel('Number of starting bikes at Olin')\n",
    "ax.set_ylabel('Average number of unsatisfied customers')\n",
    "ax.legend()"
   ],
   "metadata": {
    "collapsed": false,
    "ExecuteTime": {
     "end_time": "2023-11-01T13:58:02.158553Z",
     "start_time": "2023-11-01T13:58:02.157982Z"
    }
   },
   "id": "5cdc15f29e14c6d1"
  },
  {
   "cell_type": "markdown",
   "source": [],
   "metadata": {
    "collapsed": false
   },
   "id": "8618a00660b30f10"
  },
  {
   "cell_type": "code",
   "execution_count": 6,
   "outputs": [],
   "source": [
    "# Now lets try with 3 locations instead of 2\n",
    "\n",
    "def steps3(state, p1, p2, p3, p4, p5, p6):\n",
    "    \"\"\"Simulate one time step.\n",
    "    \n",
    "    state: bikeshare State object\n",
    "    p1: probability of an CNU->NSU ride\n",
    "    p2: probability of a NSU->CNU ride\n",
    "    p3: probability of a HU->CNU ride\n",
    "    p4: probability of a CNU->NSU customer arrival\n",
    "    p5: probability of a NSU->CNU customer arrival\n",
    "    p6: probability of a HU->CNU customer arrival\n",
    "    \"\"\"\n",
    "    if flip(p1):\n",
    "        cnu_to_nsu(state)\n",
    "        \n",
    "    if flip(p2):\n",
    "        nsu_to_cnu(state)\n",
    "        \n",
    "    if flip(p3):\n",
    "        hu_to_cnu(state)\n",
    "        \n",
    "    if flip(p4):\n",
    "        cnu_to_hu(state)\n",
    "        \n",
    "    if flip(p5):\n",
    "        nsu_to_hu(state)\n",
    "        \n",
    "    if flip(p6):\n",
    "        hu_to_nsu(state)\n",
    "        \n",
    "def cnu_to_nsu(state):\n",
    "    \"\"\"Move one bike from CNU to NSU.\n",
    "    \n",
    "    state: bikeshare State object\n",
    "    \"\"\"\n",
    "    if state.cnu == 0:\n",
    "        state.cnu_empty += 1\n",
    "        return\n",
    "    state.cnu -= 1\n",
    "    state.nsu += 1\n",
    "    \n",
    "def nsu_to_cnu(state):\n",
    "    \"\"\"Move one bike from NSU to CNU.\n",
    "    \n",
    "    state: bikeshare State object\n",
    "    \"\"\"\n",
    "    \n",
    "    if state.nsu == 0:\n",
    "        state.nsu_empty += 1\n",
    "        return\n",
    "    state.nsu -= 1\n",
    "    state.cnu += 1\n",
    "    \n",
    "def cnu_to_hu(state):\n",
    "    \"\"\"Move one bike from HU to CNU.\n",
    "    \n",
    "    state: bikeshare State object\n",
    "    \"\"\"\n",
    "    \n",
    "    if state.hu == 0:\n",
    "        state.hu_empty += 1\n",
    "        return\n",
    "    state.hu -= 1\n",
    "    state.cnu += 1\n",
    "    \n",
    "def hu_to_cnu(state):\n",
    "    \"\"\"Move one bike from CNU to HU.\n",
    "    \n",
    "    state: bikeshare State object\n",
    "    \"\"\"\n",
    "    \n",
    "    if state.cnu == 0:\n",
    "        state.cnu_empty += 1\n",
    "        return\n",
    "    state.cnu -= 1\n",
    "    state.hu += 1\n",
    "    \n",
    "def nsu_to_hu(state):\n",
    "    \"\"\"Move one bike from NSU to HU.\n",
    "    \n",
    "    state: bikeshare State object\n",
    "    \"\"\"\n",
    "    \n",
    "    if state.nsu == 0:\n",
    "        state.nsu_empty += 1\n",
    "        return\n",
    "    state.nsu -= 1\n",
    "    state.hu += 1\n",
    "    \n",
    "def hu_to_nsu(state):\n",
    "    \"\"\"Move one bike from HU to NSU.\n",
    "    \n",
    "    state: bikeshare State object\n",
    "    \"\"\"\n",
    "    \n",
    "    if state.hu == 0:\n",
    "        state.hu_empty += 1\n",
    "        return\n",
    "    state.hu -= 1\n",
    "    state.nsu += 1"
   ],
   "metadata": {
    "collapsed": false,
    "ExecuteTime": {
     "end_time": "2023-11-01T13:58:12.029370Z",
     "start_time": "2023-11-01T13:58:12.025945Z"
    }
   },
   "id": "be61102956657b71"
  },
  {
   "cell_type": "code",
   "execution_count": 7,
   "outputs": [],
   "source": [
    "def run_simulation3(state, p1, p2, p3, p4, p5, p6, num_steps, do_plot=True):\n",
    "    \"\"\"Simulate the given number of time steps.\n",
    "    \n",
    "    state: State object\n",
    "    p1: probability of an CNU->NSU customer arrival\n",
    "    p2: probability of a NSU->CNU customer arrival\n",
    "    p3: probability of a HU->CNU customer arrival\n",
    "    p4: probability of an CNU->NSU ride\n",
    "    p5: probability of a NSU->CNU ride\n",
    "    p6: probability of a HU->CNU ride\n",
    "    num_steps: number of time steps\n",
    "    \"\"\"\n",
    "    results_cnu = TimeSeries()\n",
    "    results_cnu[0] = state.cnu\n",
    "    results_nsu = TimeSeries()\n",
    "    results_nsu[0] = state.nsu\n",
    "    results_hu = TimeSeries()\n",
    "    results_hu[0] = state.hu\n",
    "    results_cnu_unsatisfied = TimeSeries()\n",
    "    results_cnu_unsatisfied[0] = state.cnu_empty\n",
    "    results_nsu_unsatisfied = TimeSeries()\n",
    "    results_nsu_unsatisfied[0] = state.nsu_empty\n",
    "    results_hu_unsatisfied = TimeSeries()\n",
    "    results_hu_unsatisfied[0] = state.hu_empty\n",
    "    \n",
    "    for i in range(num_steps):\n",
    "        steps3(state, p1, p2, p3, p4, p5, p6)\n",
    "        results_cnu[i+1] = state.cnu\n",
    "        results_nsu[i+1] = state.nsu\n",
    "        results_hu[i+1] = state.hu\n",
    "        results_cnu_unsatisfied[i+1] = state.cnu_empty\n",
    "        results_nsu_unsatisfied[i+1] = state.nsu_empty\n",
    "        results_hu_unsatisfied[i+1] = state.hu_empty\n",
    "        \n",
    "    if (do_plot):\n",
    "        fig, ax = plt.subplots(1,2,figsize=(12,6))\n",
    "        ax[0].plot(results_cnu, label='CNU')\n",
    "        ax[0].plot(results_nsu, label='NSU')\n",
    "        ax[0].plot(results_hu, label='HU')\n",
    "        ax[0].set_xlabel('Time step (min)')\n",
    "        ax[0].set_ylabel('Number of bikes')\n",
    "        ax[0].legend()\n",
    "        ax[1].plot(results_cnu_unsatisfied, label='CNU')\n",
    "        ax[1].plot(results_nsu_unsatisfied, label='NSU')\n",
    "        ax[1].plot(results_hu_unsatisfied, label='HU')\n",
    "        ax[1].set_xlabel('Time step (min)')\n",
    "        ax[1].set_ylabel('Number of unsatisfied customers')\n",
    "        ax[1].legend()\n",
    "        plt.show()\n",
    "    \n",
    "    return results_cnu_unsatisfied[num_steps-1] + results_nsu_unsatisfied[num_steps-1] + results_hu_unsatisfied[num_steps-1]"
   ],
   "metadata": {
    "collapsed": false,
    "ExecuteTime": {
     "end_time": "2023-11-01T13:58:12.793503Z",
     "start_time": "2023-11-01T13:58:12.786503Z"
    }
   },
   "id": "770d330ebf3e3c77"
  },
  {
   "cell_type": "code",
   "execution_count": 8,
   "outputs": [
    {
     "data": {
      "text/plain": "<Figure size 900x450 with 2 Axes>",
      "image/png": "[encoded data removed]"
     },
     "metadata": {},
     "output_type": "display_data"
    },
    {
     "name": "stdout",
     "output_type": "stream",
     "text": [
      "Total unsatisfied customers:  10\n"
     ]
    }
   ],
   "source": [
    "# single run for testing purposes\n",
    "p_cnu_to_nsu = 0.3\n",
    "p_nsu_to_cnu = 0.2\n",
    "p_cnu_to_hu = 0.4\n",
    "p_hu_to_cnu = 0.1\n",
    "p_nsu_to_hu = 0.35\n",
    "p_hu_to_nsu = 0.15\n",
    "\n",
    "N_slots = 100\n",
    "\n",
    "nstart = []\n",
    "tu_avg = []\n",
    "\n",
    "num_sims = 100\n",
    "N_start_cnu = 90\n",
    "N_start_nsu = 10\n",
    "N_start_hu = 0\n",
    "\n",
    "# run simulation for 180 time steps\n",
    "bikeshare = State(cnu=N_start_cnu, nsu=N_start_nsu, hu=N_start_hu,\n",
    "                  cnu_empty=0, nsu_empty=0, hu_empty=0)\n",
    "do_plot = True\n",
    "total_unsatisfied = run_simulation3(bikeshare, p_cnu_to_nsu, p_nsu_to_cnu, p_cnu_to_hu, p_hu_to_cnu, p_nsu_to_hu, p_hu_to_nsu, 180, do_plot)\n",
    "\n",
    "print(\"Total unsatisfied customers: \", total_unsatisfied)\n"
   ],
   "metadata": {
    "collapsed": false,
    "ExecuteTime": {
     "end_time": "2023-11-01T13:58:14.764566Z",
     "start_time": "2023-11-01T13:58:13.752402Z"
    }
   },
   "id": "4b51270338613638"
  },
  {
   "cell_type": "code",
   "execution_count": 114,
   "outputs": [
    {
     "name": "stdout",
     "output_type": "stream",
     "text": [
      "100 0 0\n",
      "Average unsatisfied customers:  26.1\n",
      "90 10 0\n",
      "Average unsatisfied customers:  13.1\n",
      "90 0 10\n",
      "Average unsatisfied customers:  18.8\n",
      "80 20 0\n",
      "Average unsatisfied customers:  4.2\n",
      "80 10 10\n",
      "Average unsatisfied customers:  12.5\n",
      "80 0 20\n",
      "Average unsatisfied customers:  26.8\n",
      "70 30 0\n",
      "Average unsatisfied customers:  9.1\n",
      "70 20 10\n",
      "Average unsatisfied customers:  14.8\n",
      "70 10 20\n",
      "Average unsatisfied customers:  18.9\n",
      "70 0 30\n",
      "Average unsatisfied customers:  37.8\n",
      "60 40 0\n",
      "Average unsatisfied customers:  9.7\n",
      "60 30 10\n",
      "Average unsatisfied customers:  17.7\n",
      "60 20 20\n",
      "Average unsatisfied customers:  21.2\n",
      "60 10 30\n",
      "Average unsatisfied customers:  27.2\n",
      "60 0 40\n",
      "Average unsatisfied customers:  46.3\n",
      "50 50 0\n",
      "Average unsatisfied customers:  23.6\n",
      "50 40 10\n",
      "Average unsatisfied customers:  27.1\n",
      "50 30 20\n",
      "Average unsatisfied customers:  32.6\n",
      "50 20 30\n",
      "Average unsatisfied customers:  38.3\n",
      "50 10 40\n",
      "Average unsatisfied customers:  47.4\n",
      "50 0 50\n",
      "Average unsatisfied customers:  65.6\n",
      "40 60 0\n",
      "Average unsatisfied customers:  28.7\n",
      "40 50 10\n",
      "Average unsatisfied customers:  38.0\n",
      "40 40 20\n",
      "Average unsatisfied customers:  36.9\n",
      "40 30 30\n",
      "Average unsatisfied customers:  43.9\n",
      "40 20 40\n",
      "Average unsatisfied customers:  57.8\n",
      "40 10 50\n",
      "Average unsatisfied customers:  68.5\n",
      "40 0 60\n",
      "Average unsatisfied customers:  78.5\n",
      "30 70 0\n",
      "Average unsatisfied customers:  38.4\n",
      "30 60 10\n",
      "Average unsatisfied customers:  47.6\n",
      "30 50 20\n",
      "Average unsatisfied customers:  45.2\n",
      "30 40 30\n",
      "Average unsatisfied customers:  46.7\n",
      "30 30 40\n",
      "Average unsatisfied customers:  53.6\n",
      "30 20 50\n",
      "Average unsatisfied customers:  62.8\n",
      "30 10 60\n",
      "Average unsatisfied customers:  85.3\n",
      "30 0 70\n",
      "Average unsatisfied customers:  88.0\n",
      "20 80 0\n",
      "Average unsatisfied customers:  51.7\n",
      "20 70 10\n",
      "Average unsatisfied customers:  54.5\n",
      "20 60 20\n",
      "Average unsatisfied customers:  55.0\n",
      "20 50 30\n",
      "Average unsatisfied customers:  53.3\n",
      "20 40 40\n",
      "Average unsatisfied customers:  67.6\n",
      "20 30 50\n",
      "Average unsatisfied customers:  77.2\n",
      "20 20 60\n",
      "Average unsatisfied customers:  92.3\n",
      "20 10 70\n",
      "Average unsatisfied customers:  89.0\n",
      "20 0 80\n",
      "Average unsatisfied customers:  112.7\n",
      "10 90 0\n",
      "Average unsatisfied customers:  64.3\n",
      "10 80 10\n",
      "Average unsatisfied customers:  60.4\n",
      "10 70 20\n",
      "Average unsatisfied customers:  61.5\n",
      "10 60 30\n",
      "Average unsatisfied customers:  61.5\n",
      "10 50 40\n",
      "Average unsatisfied customers:  65.6\n",
      "10 40 50\n",
      "Average unsatisfied customers:  81.6\n",
      "10 30 60\n",
      "Average unsatisfied customers:  86.3\n",
      "10 20 70\n",
      "Average unsatisfied customers:  97.2\n",
      "10 10 80\n",
      "Average unsatisfied customers:  116.1\n",
      "10 0 90\n",
      "Average unsatisfied customers:  133.7\n",
      "0 100 0\n",
      "Average unsatisfied customers:  74.2\n",
      "0 90 10\n",
      "Average unsatisfied customers:  79.0\n",
      "0 80 20\n",
      "Average unsatisfied customers:  65.8\n",
      "0 70 30\n",
      "Average unsatisfied customers:  76.7\n",
      "0 60 40\n",
      "Average unsatisfied customers:  74.8\n",
      "0 50 50\n",
      "Average unsatisfied customers:  73.9\n",
      "0 40 60\n",
      "Average unsatisfied customers:  90.9\n",
      "0 30 70\n",
      "Average unsatisfied customers:  93.8\n",
      "0 20 80\n",
      "Average unsatisfied customers:  122.2\n",
      "0 10 90\n",
      "Average unsatisfied customers:  121.5\n"
     ]
    }
   ],
   "source": [
    "p_cnu_to_nsu = 0.3\n",
    "p_nsu_to_cnu = 0.2\n",
    "p_cnu_to_hu = 0.4\n",
    "p_hu_to_cnu = 0.1\n",
    "p_nsu_to_hu = 0.35\n",
    "p_hu_to_nsu = 0.15\n",
    "\n",
    "N_slots = 100\n",
    "\n",
    "nstartcnu = []\n",
    "nstartnsu = []\n",
    "nstarthu = []\n",
    "\n",
    "tu_avg = []\n",
    "\n",
    "num_sims = 10\n",
    "\n",
    "# run simulation for 180 time steps and incrementing by 10 bikes but we must keep a total 100 bikes between the 3 locations\n",
    "for N_start_cnu in range(N_slots, -10, -10):\n",
    "    for N_start_nsu in range(N_slots, -10, -10):\n",
    "        for N_start_hu in range(N_slots):\n",
    "            if (N_start_cnu + N_start_nsu + N_start_hu == 100):\n",
    "                nstartcnu.append(N_start_cnu)\n",
    "                nstartnsu.append(N_start_nsu)\n",
    "                nstarthu.append(N_start_hu)\n",
    "\n",
    "                print(N_start_cnu, N_start_nsu, N_start_hu)\n",
    "\n",
    "                tu_sum = 0\n",
    "\n",
    "                for j in range(num_sims):\n",
    "                    bikeshare = State(cnu=N_start_cnu, nsu=N_start_nsu, hu=N_start_hu,\n",
    "                                      cnu_empty=0, nsu_empty=0, hu_empty=0)\n",
    "                    do_plot = False\n",
    "                    total_unsatisfied = run_simulation3(bikeshare, p_cnu_to_nsu, p_nsu_to_cnu, p_cnu_to_hu, p_hu_to_cnu, p_nsu_to_hu, p_hu_to_nsu, 180, do_plot)\n",
    "\n",
    "                    #print(\"Total unsatisfied customers: \", j, total_unsatisfied)\n",
    "                    tu_sum += total_unsatisfied\n",
    "                \n",
    "                tu_avg.append(tu_sum/(1.0*num_sims))\n",
    "\n",
    "                print(\"Average unsatisfied customers: \", tu_sum/(1.0*num_sims))"
   ],
   "metadata": {
    "collapsed": false,
    "ExecuteTime": {
     "end_time": "2023-10-30T23:02:43.549823Z",
     "start_time": "2023-10-30T22:58:42.816458Z"
    }
   },
   "id": "1a6fcd2fd7796d01"
  },
  {
   "cell_type": "code",
   "execution_count": 115,
   "outputs": [
    {
     "name": "stdout",
     "output_type": "stream",
     "text": [
      "Minimum average unsatisfied customers:  4.2\n",
      "Starting conditions:  80 20 0\n"
     ]
    }
   ],
   "source": [
    "# find minimum average unsatisfied customers and the corresponding starting conditions\n",
    "min_tu_avg = min(tu_avg)\n",
    "min_tu_avg_index = tu_avg.index(min_tu_avg)\n",
    "print(\"Minimum average unsatisfied customers: \", min_tu_avg)\n",
    "print(\"Starting conditions: \", nstartcnu[min_tu_avg_index], nstartnsu[min_tu_avg_index], nstarthu[min_tu_avg_index])"
   ],
   "metadata": {
    "collapsed": false,
    "ExecuteTime": {
     "end_time": "2023-10-30T23:02:48.147909Z",
     "start_time": "2023-10-30T23:02:48.133999Z"
    }
   },
   "id": "61de343edc918d31"
  },
  {
   "cell_type": "markdown",
   "source": [
    "Best Configuration is 80 bikes at CNU, 20 bikes at NSU, and 0 bikes at HU. This is probably related to the fact that bikes are more likely to end up at HU than the other two locations, so it is better to start with 0 bikes at HU."
   ],
   "metadata": {
    "collapsed": false
   },
   "id": "854b1f1f972286b8"
  },
  {
   "cell_type": "markdown",
   "id": "instructional-finnish",
   "metadata": {},
   "source": [
    "## Under the Hood\n",
    "\n",
    "This section contains additional information about the functions we've used and pointers to their documentation.\n",
    "\n",
    "You don't need to know anything in this section, so if you are already feeling overwhelmed, you might want to skip it.\n",
    "But if you are curious, read on."
   ]
  },
  {
   "cell_type": "markdown",
   "id": "quick-citizen",
   "metadata": {},
   "source": [
    "`State` and `TimeSeries` objects are based on the `Series` object defined by the Pandas library.\n",
    "The documentation is at <https://pandas.pydata.org/pandas-docs/stable/reference/api/pandas.Series.html>.\n",
    "\n",
    "`Series` objects provide their own `plot` function, which is why we call it like this:\n",
    "\n",
    "```\n",
    "results.plot()\n",
    "```\n",
    "\n",
    "Instead of like this:\n",
    "\n",
    "```\n",
    "plot(results)\n",
    "```\n",
    "\n",
    "You can read the documentation of `Series.plot` at <https://pandas.pydata.org/pandas-docs/stable/reference/api/pandas.Series.plot.html>."
   ]
  },
  {
   "cell_type": "markdown",
   "id": "digital-stretch",
   "metadata": {},
   "source": [
    "`decorate` is based on Matplotlib, which is a widely used plotting library for Python.  Matplotlib provides separate functions for `title`, `xlabel`, and `ylabel`.\n",
    "`decorate` makes them a little easier to use.\n",
    "For the list of keyword arguments you can pass to `decorate`, see <https://matplotlib.org/3.2.2/api/axes_api.html?highlight=axes#module-matplotlib.axes>.\n",
    "\n",
    "The `flip` function uses NumPy's `random` function to generate a random number between 0 and 1, then returns `True` or `False` with the given probability.\n",
    "\n",
    "You can get the source code for `flip` (or any other function) by running the following cell."
   ]
  },
  {
   "cell_type": "code",
   "execution_count": 113,
   "id": "agricultural-midwest",
   "metadata": {
    "ExecuteTime": {
     "end_time": "2023-10-30T22:57:07.495601Z",
     "start_time": "2023-10-30T22:57:07.487516Z"
    }
   },
   "outputs": [
    {
     "name": "stdout",
     "output_type": "stream",
     "text": [
      "def flip(p=0.5):\n",
      "    \"\"\"Flips a coin with the given probability.\n",
      "\n",
      "    p: float 0-1\n",
      "\n",
      "    returns: boolean (True or False)\n",
      "    \"\"\"\n",
      "    return np.random.random() < p\n"
     ]
    }
   ],
   "source": [
    "source_code(flip)"
   ]
  },
  {
   "cell_type": "code",
   "execution_count": 8,
   "id": "junior-lindsay",
   "metadata": {
    "ExecuteTime": {
     "end_time": "2023-10-30T20:23:04.693492Z",
     "start_time": "2023-10-30T20:23:04.688803Z"
    }
   },
   "outputs": [],
   "source": []
  },
  {
   "cell_type": "code",
   "execution_count": 8,
   "outputs": [],
   "source": [],
   "metadata": {
    "collapsed": false,
    "ExecuteTime": {
     "end_time": "2023-10-30T20:23:04.694492Z",
     "start_time": "2023-10-30T20:23:04.691680Z"
    }
   },
   "id": "9c2ef8f0c1c32f7"
  }
 ],
 "metadata": {
  "celltoolbar": "Tags",
  "kernelspec": {
   "display_name": "Python 3 (ipykernel)",
   "language": "python",
   "name": "python3"
  },
  "language_info": {
   "codemirror_mode": {
    "name": "ipython",
    "version": 3
   },
   "file_extension": ".py",
   "mimetype": "text/x-python",
   "name": "python",
   "nbconvert_exporter": "python",
   "pygments_lexer": "ipython3",
   "version": "3.10.6"
  }
 },
 "nbformat": 4,
 "nbformat_minor": 5
}
