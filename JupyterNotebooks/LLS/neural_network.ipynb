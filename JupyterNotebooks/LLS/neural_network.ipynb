{
 "cells": [
  {
   "cell_type": "code",
   "execution_count": 46,
   "id": "initial_id",
   "metadata": {
    "collapsed": true,
    "ExecuteTime": {
     "end_time": "2023-10-29T21:07:40.868861Z",
     "start_time": "2023-10-29T21:07:40.858843Z"
    }
   },
   "outputs": [],
   "source": [
    "import numpy as np\n",
    "import pandas as pd\n",
    "import matplotlib.pyplot as plt\n",
    "import statsmodels.formula.api as smf"
   ]
  },
  {
   "cell_type": "code",
   "execution_count": 47,
   "outputs": [],
   "source": [
    "# generate the data set\n",
    "\n",
    "# number of data points\n",
    "n = 100\n",
    "\n",
    "x = np.zeros(n)\n",
    "y = np.zeros(n)\n",
    "v = np.zeros(n)\n",
    "result = np.zeros(n)\n",
    "\n",
    "for i in range(n):\n",
    "    x[i] = np.random.randint(0, 2)\n",
    "    y[i] = np.random.randint(0, 2)\n",
    "    v[i] = np.random.randint(0, 2)\n",
    "    z = x[i] + y[i]\n",
    "    if z == 0:\n",
    "        if v[i] == 0:\n",
    "            result[i] = 1\n",
    "        else:\n",
    "            result[i] = 0\n",
    "    elif z == 1:\n",
    "        result[i] = 0\n",
    "    elif z == 2:\n",
    "        result[i] = 1\n",
    "    else:\n",
    "        print('error')\n",
    "        \n",
    "    #print (i, x[i], y[i], v[i], result[i])"
   ],
   "metadata": {
    "collapsed": false,
    "ExecuteTime": {
     "end_time": "2023-10-29T21:07:41.350729Z",
     "start_time": "2023-10-29T21:07:41.327156Z"
    }
   },
   "id": "ee0f94f41784cf5"
  },
  {
   "cell_type": "code",
   "execution_count": 48,
   "outputs": [],
   "source": [
    "df = pd.DataFrame(columns = ['x', 'y', 'v', 'result'])"
   ],
   "metadata": {
    "collapsed": false,
    "ExecuteTime": {
     "end_time": "2023-10-29T21:07:41.668633Z",
     "start_time": "2023-10-29T21:07:41.660022Z"
    }
   },
   "id": "64e871ac711ebcc6"
  },
  {
   "cell_type": "code",
   "execution_count": 49,
   "outputs": [
    {
     "data": {
      "text/plain": "     x    y    v  result\n0  0.0  1.0  1.0     0.0\n1  1.0  0.0  1.0     0.0\n2  1.0  0.0  0.0     0.0\n3  0.0  1.0  0.0     0.0\n4  0.0  1.0  0.0     0.0",
      "text/html": "<div>\n<style scoped>\n    .dataframe tbody tr th:only-of-type {\n        vertical-align: middle;\n    }\n\n    .dataframe tbody tr th {\n        vertical-align: top;\n    }\n\n    .dataframe thead th {\n        text-align: right;\n    }\n</style>\n<table border=\"1\" class=\"dataframe\">\n  <thead>\n    <tr style=\"text-align: right;\">\n      <th></th>\n      <th>x</th>\n      <th>y</th>\n      <th>v</th>\n      <th>result</th>\n    </tr>\n  </thead>\n  <tbody>\n    <tr>\n      <th>0</th>\n      <td>0.0</td>\n      <td>1.0</td>\n      <td>1.0</td>\n      <td>0.0</td>\n    </tr>\n    <tr>\n      <th>1</th>\n      <td>1.0</td>\n      <td>0.0</td>\n      <td>1.0</td>\n      <td>0.0</td>\n    </tr>\n    <tr>\n      <th>2</th>\n      <td>1.0</td>\n      <td>0.0</td>\n      <td>0.0</td>\n      <td>0.0</td>\n    </tr>\n    <tr>\n      <th>3</th>\n      <td>0.0</td>\n      <td>1.0</td>\n      <td>0.0</td>\n      <td>0.0</td>\n    </tr>\n    <tr>\n      <th>4</th>\n      <td>0.0</td>\n      <td>1.0</td>\n      <td>0.0</td>\n      <td>0.0</td>\n    </tr>\n  </tbody>\n</table>\n</div>"
     },
     "execution_count": 49,
     "metadata": {},
     "output_type": "execute_result"
    }
   ],
   "source": [
    "df['x'] = x\n",
    "df['y'] = y\n",
    "df['v'] = v\n",
    "df['result'] = result\n",
    "df.head()"
   ],
   "metadata": {
    "collapsed": false,
    "ExecuteTime": {
     "end_time": "2023-10-29T21:07:42.137108Z",
     "start_time": "2023-10-29T21:07:42.126842Z"
    }
   },
   "id": "724ffadf294e0ad2"
  },
  {
   "cell_type": "code",
   "execution_count": 50,
   "outputs": [
    {
     "name": "stdout",
     "output_type": "stream",
     "text": [
      "     x    y    v  result  Results_pred  Results_Residual\n",
      "0  0.0  1.0  1.0     0.0     -0.074786          0.074786\n",
      "1  1.0  0.0  1.0     0.0     -0.101495          0.101495\n",
      "2  1.0  0.0  0.0     0.0      0.157882         -0.157882\n",
      "3  0.0  1.0  0.0     0.0      0.078941         -0.078941\n",
      "4  0.0  1.0  0.0     0.0      0.078941         -0.078941\n",
      "                            OLS Regression Results                            \n",
      "==============================================================================\n",
      "Dep. Variable:                 result   R-squared:                       0.932\n",
      "Model:                            OLS   Adj. R-squared:                  0.928\n",
      "Method:                 Least Squares   F-statistic:                     213.6\n",
      "Date:                Sun, 29 Oct 2023   Prob (F-statistic):           4.11e-52\n",
      "Time:                        17:07:42   Log-Likelihood:                 70.799\n",
      "No. Observations:                 100   AIC:                            -127.6\n",
      "Df Residuals:                      93   BIC:                            -109.4\n",
      "Df Model:                           6                                         \n",
      "Covariance Type:            nonrobust                                         \n",
      "==============================================================================\n",
      "                 coef    std err          t      P>|t|      [0.025      0.975]\n",
      "------------------------------------------------------------------------------\n",
      "Intercept      0.8907      0.032     27.529      0.000       0.826       0.955\n",
      "x             -0.7328      0.046    -15.971      0.000      -0.824      -0.642\n",
      "y             -0.8118      0.041    -20.026      0.000      -0.892      -0.731\n",
      "v             -0.7486      0.045    -16.641      0.000      -0.838      -0.659\n",
      "x:y            1.4763      0.052     28.505      0.000       1.373       1.579\n",
      "x:v            0.4892      0.052      9.438      0.000       0.386       0.592\n",
      "y:v            0.5949      0.051     11.686      0.000       0.494       0.696\n",
      "==============================================================================\n",
      "Omnibus:                     8348.767   Durbin-Watson:                   1.899\n",
      "Prob(Omnibus):                  0.000   Jarque-Bera (JB):               11.273\n",
      "Skew:                          -0.142   Prob(JB):                      0.00356\n",
      "Kurtosis:                       1.380   Cond. No.                         9.29\n",
      "==============================================================================\n",
      "\n",
      "Notes:\n",
      "[1] Standard Errors assume that the covariance matrix of the errors is correctly specified.\n"
     ]
    }
   ],
   "source": [
    "# Fit a linear regression model to a single parameter - Sales vs. TV advertising costs\n",
    "model = smf.ols('result ~ x + y + v + x*y + x*v + y*v', data=df)\n",
    "model = model.fit()\n",
    "\n",
    "# View model summary\n",
    "# print(model.summary())\n",
    "\n",
    "# Predict values\n",
    "results_pred = model.predict()\n",
    "\n",
    "# Add this prediction to the DataFrame\n",
    "df['Results_pred'] = results_pred\n",
    "# Add the DIFFERENCE between Sales data and prediction to the DataFrame\n",
    "df['Results_Residual'] = df['result'] - results_pred\n",
    "print(df.head())\n",
    "\n",
    "print(model.summary())"
   ],
   "metadata": {
    "collapsed": false,
    "ExecuteTime": {
     "end_time": "2023-10-29T21:07:42.583476Z",
     "start_time": "2023-10-29T21:07:42.562674Z"
    }
   },
   "id": "883f0d3b2a51e372"
  },
  {
   "cell_type": "code",
   "execution_count": 51,
   "outputs": [
    {
     "name": "stdout",
     "output_type": "stream",
     "text": [
      "   x  y  v  result  Results_pred  Results_Residual\n",
      "0  1  1  1       1           1.0               0.0\n",
      "1  1  1  0       1           1.0               0.0\n",
      "2  1  0  0       0           0.0               0.0\n",
      "3  1  0  1       0          -0.0               0.0\n",
      "4  0  1  0       0           0.0               0.0\n",
      "5  0  1  1       0          -0.0               0.0\n",
      "6  0  0  1       0           0.0               0.0\n",
      "7  0  0  0       1           1.0               0.0\n"
     ]
    }
   ],
   "source": [
    "xt = np.array([1, 1, 1, 1, 0, 0, 0, 0])\n",
    "yt = np.array([1, 1, 0, 0, 1, 1, 0, 0])\n",
    "vt = np.array([1, 0, 0, 1, 0, 1, 1, 0])\n",
    "resultt = np.array([1, 1, 0, 0, 0, 0, 0, 1])\n",
    "\n",
    "dft = pd.DataFrame(columns = ['x', 'y', 'v', 'result'])\n",
    "dft['x'] = xt\n",
    "dft['y'] = yt\n",
    "dft['v'] = vt\n",
    "dft['result'] = resultt\n",
    "\n",
    "results_predt = model.predict(dft)\n",
    "dft['Results_pred'] = np.round(results_predt)\n",
    "dft['Results_Residual'] = dft['result'] -  np.round(results_predt)\n",
    "print(dft.head(8))\n"
   ],
   "metadata": {
    "collapsed": false,
    "ExecuteTime": {
     "end_time": "2023-10-29T21:07:43.320895Z",
     "start_time": "2023-10-29T21:07:43.312322Z"
    }
   },
   "id": "7b95b5c90984b00"
  },
  {
   "cell_type": "code",
   "execution_count": 51,
   "outputs": [],
   "source": [],
   "metadata": {
    "collapsed": false,
    "ExecuteTime": {
     "end_time": "2023-10-29T21:07:44.063660Z",
     "start_time": "2023-10-29T21:07:44.059099Z"
    }
   },
   "id": "e09a417ab48bab7d"
  },
  {
   "cell_type": "code",
   "execution_count": null,
   "outputs": [],
   "source": [],
   "metadata": {
    "collapsed": false
   },
   "id": "4c1761556653e2d0"
  }
 ],
 "metadata": {
  "kernelspec": {
   "display_name": "Python 3",
   "language": "python",
   "name": "python3"
  },
  "language_info": {
   "codemirror_mode": {
    "name": "ipython",
    "version": 2
   },
   "file_extension": ".py",
   "mimetype": "text/x-python",
   "name": "python",
   "nbconvert_exporter": "python",
   "pygments_lexer": "ipython2",
   "version": "2.7.6"
  }
 },
 "nbformat": 4,
 "nbformat_minor": 5
}
